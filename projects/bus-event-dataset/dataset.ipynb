{
 "cells": [
  {
   "cell_type": "markdown",
   "id": "3fe66732",
   "metadata": {},
   "source": [
    "# 버스 정류장 이벤트 데이터 전처리"
   ]
  },
  {
   "cell_type": "code",
   "execution_count": null,
   "id": "9df0430d",
   "metadata": {
    "vscode": {
     "languageId": "plaintext"
    }
   },
   "outputs": [],
   "source": [
    "전처리 해야하는 이유, 우리가 원하는 데이터를 추출하기 위해서 데이터 Tree를 정리 하여야함.\n",
    "\n",
    "안그러면 불러오는데 고생함."
   ]
  }
 ],
 "metadata": {
  "language_info": {
   "name": "python"
  }
 },
 "nbformat": 4,
 "nbformat_minor": 5
}
